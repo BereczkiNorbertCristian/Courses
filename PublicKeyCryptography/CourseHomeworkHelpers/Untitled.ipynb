{
 "cells": [
  {
   "cell_type": "code",
   "execution_count": 1,
   "metadata": {},
   "outputs": [],
   "source": [
    "import numpy as np\n"
   ]
  },
  {
   "cell_type": "code",
   "execution_count": 2,
   "metadata": {},
   "outputs": [],
   "source": [
    "n = 7171"
   ]
  },
  {
   "cell_type": "code",
   "execution_count": 43,
   "metadata": {},
   "outputs": [],
   "source": [
    "def run(n,UNTIL):\n",
    "    \n",
    "    a = [0] * (UNTIL + 1)\n",
    "    b = [0] * (UNTIL + 1)\n",
    "    bsq = [0] * (UNTIL + 1)\n",
    "    x = [0] * (UNTIL + 1)\n",
    "\n",
    "    b[0] = 1\n",
    "    b[1] = a[1] = np.floor(np.sqrt(n))\n",
    "    x[1] = np.sqrt(n) - a[1]\n",
    "    bsq[1] = b[1]*b[1]%n\n",
    "    if bsq[1] > n//2 :\n",
    "        bsq[1] -= n\n",
    "    \n",
    "    \n",
    "    for i in range(2,UNTIL):\n",
    "        a[i] = np.floor(1/x[i-1])\n",
    "        x[i] = 1/x[i-1] - a[i]\n",
    "        b[i] = (a[i]*b[i-1] + b[i-2])%n\n",
    "        bsq[i] = b[i]*b[i]%n\n",
    "        if bsq[i] > n//2 :\n",
    "            bsq[i] -= n\n",
    "    return a,b,bsq"
   ]
  },
  {
   "cell_type": "code",
   "execution_count": 35,
   "metadata": {},
   "outputs": [],
   "source": [
    "def getPrimeFactors(x):\n",
    "    ret = []\n",
    "    number = x\n",
    "    for i in range(2,np.absolute(number)+1):\n",
    "        if number% i == 0:\n",
    "            cnt = 0\n",
    "            while number%i == 0 :\n",
    "                cnt += 1\n",
    "                number /= i\n",
    "            ret.append((i,cnt))\n",
    "    return ret\n",
    "    "
   ]
  },
  {
   "cell_type": "code",
   "execution_count": 47,
   "metadata": {},
   "outputs": [
    {
     "name": "stdout",
     "output_type": "stream",
     "text": [
      "[0, 84.0, 1.0, 2.0, 7.0, 33.0, 1.0, 2.0, 1.0, 3.0, 1.0, 0]\n",
      "[1, 84.0, 85.0, 254.0, 1863.0, 4365.0, 6228.0, 2479.0, 1536.0, 7087.0, 1452.0, 0]\n",
      "[0, -115.0, 54.0, -23.0, 5.0, -122.0, 45.0, -106.0, 37.0, -115.0, 30.0, 0]\n"
     ]
    }
   ],
   "source": [
    "N = 7171\n",
    "UNTIL = 5\n",
    "a,b,bsq = run(N,UNTIL)\n",
    "print(a)\n",
    "print(b)\n",
    "print(bsq)"
   ]
  },
  {
   "cell_type": "code",
   "execution_count": 49,
   "metadata": {},
   "outputs": [
    {
     "name": "stdout",
     "output_type": "stream",
     "text": [
      "[(5, 1), (23, 1)] -> -115.0\n",
      "[(2, 1), (3, 3)] -> 54.0\n",
      "[(23, 1)] -> -23.0\n",
      "[(5, 1)] -> 5.0\n",
      "[(2, 1), (61, 1)] -> -122.0\n",
      "[(3, 2), (5, 1)] -> 45.0\n",
      "[(2, 1), (53, 1)] -> -106.0\n",
      "[(37, 1)] -> 37.0\n",
      "[(5, 1), (23, 1)] -> -115.0\n",
      "[(2, 1), (3, 1), (5, 1)] -> 30.0\n"
     ]
    }
   ],
   "source": [
    "for b in bsq:\n",
    "    if b == 0 : continue\n",
    "    print(str(getPrimeFactors(int(b))) + \" -> \" + str(b))"
   ]
  },
  {
   "cell_type": "code",
   "execution_count": 53,
   "metadata": {},
   "outputs": [
    {
     "name": "stdout",
     "output_type": "stream",
     "text": [
      "3483\n",
      "115\n"
     ]
    }
   ],
   "source": [
    "elms = [-1,5,23]\n",
    "in_b = [-115,-23,5]\n",
    "B = (-155) * (-23) * 5\n",
    "C = 5 * 23\n",
    "print(B%n)\n",
    "print(C)"
   ]
  }
 ],
 "metadata": {
  "kernelspec": {
   "display_name": "Python 3",
   "language": "python",
   "name": "python3"
  },
  "language_info": {
   "codemirror_mode": {
    "name": "ipython",
    "version": 3
   },
   "file_extension": ".py",
   "mimetype": "text/x-python",
   "name": "python",
   "nbconvert_exporter": "python",
   "pygments_lexer": "ipython3",
   "version": "3.5.2"
  }
 },
 "nbformat": 4,
 "nbformat_minor": 2
}
