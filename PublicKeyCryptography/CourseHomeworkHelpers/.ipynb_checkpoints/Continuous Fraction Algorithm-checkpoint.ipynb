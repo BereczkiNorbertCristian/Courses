{
 "cells": [
  {
   "cell_type": "code",
   "execution_count": null,
   "metadata": {},
   "outputs": [],
   "source": [
    "import numpy as np\n",
    "from math import gcd"
   ]
  },
  {
   "cell_type": "code",
   "execution_count": 2,
   "metadata": {},
   "outputs": [],
   "source": [
    "n = 7171"
   ]
  },
  {
   "cell_type": "code",
   "execution_count": 44,
   "metadata": {},
   "outputs": [],
   "source": [
    "def run(n,UNTIL):\n",
    "    \n",
    "    a = [0] * (UNTIL + 1)\n",
    "    b = [0] * (UNTIL + 1)\n",
    "    bsq = [0] * (UNTIL + 1)\n",
    "    x = [0] * (UNTIL + 1)\n",
    "\n",
    "    b[0] = 1\n",
    "    b[1] = a[1] = np.floor(np.sqrt(n))\n",
    "    x[1] = np.sqrt(n) - a[1]\n",
    "    bsq[1] = b[1]*b[1]%n\n",
    "    if bsq[1] > n//2 :\n",
    "        bsq[1] -= n\n",
    "    \n",
    "    \n",
    "    for i in range(2,UNTIL):\n",
    "        a[i] = np.floor(1/x[i-1]) % n\n",
    "        x[i] = 1/x[i-1] - a[i]\n",
    "        b[i] = (a[i]*b[i-1] + b[i-2])%n\n",
    "        bsq[i] = b[i]*b[i]%n\n",
    "        if bsq[i] > n//2 :\n",
    "            bsq[i] -= n\n",
    "    return a,b,bsq"
   ]
  },
  {
   "cell_type": "code",
   "execution_count": 45,
   "metadata": {},
   "outputs": [],
   "source": [
    "def getPrimeFactors(x):\n",
    "    ret = []\n",
    "    number = x\n",
    "    for i in range(2,np.absolute(number)+1):\n",
    "        if number% i == 0:\n",
    "            cnt = 0\n",
    "            while number%i == 0 :\n",
    "                cnt += 1\n",
    "                number /= i\n",
    "            ret.append((i,cnt))\n",
    "    return ret\n"
   ]
  },
  {
   "cell_type": "code",
   "execution_count": 97,
   "metadata": {},
   "outputs": [
    {
     "name": "stdout",
     "output_type": "stream",
     "text": [
      "[0, 84.0, 1.0, 2.0, 7.0, 33.0, 1.0, 2.0, 1.0, 3.0, 0]\n",
      "[1, 84.0, 85.0, 254.0, 1863.0, 4365.0, 6228.0, 2479.0, 1536.0, 7087.0, 0]\n",
      "[0, -115.0, 54.0, -23.0, 5.0, -122.0, 45.0, -106.0, 37.0, -115.0, 0]\n",
      "1,0\n",
      "84.0,-115.0\n",
      "85.0,54.0\n",
      "254.0,-23.0\n",
      "1863.0,5.0\n",
      "4365.0,-122.0\n",
      "6228.0,45.0\n",
      "2479.0,-106.0\n",
      "1536.0,37.0\n",
      "7087.0,-115.0\n",
      "0,0\n"
     ]
    }
   ],
   "source": [
    "N = 7171\n",
    "UNTIL = 10\n",
    "a,b,bsq = run(N,UNTIL)\n",
    "print(a)\n",
    "print(b)\n",
    "print(bsq)\n",
    "rev = {}\n",
    "for ai,bi,bsqi in zip(a,b,bsq):\n",
    "    print( str(bi) + ',' + str(bsqi))\n",
    "    #beware of collisions\n",
    "    rev[bsqi] = bi"
   ]
  },
  {
   "cell_type": "code",
   "execution_count": 95,
   "metadata": {},
   "outputs": [
    {
     "name": "stdout",
     "output_type": "stream",
     "text": [
      "[(5, 1), (23, 1)] -> -115.0\n",
      "[(2, 1), (3, 3)] -> 54.0\n",
      "[(23, 1)] -> -23.0\n",
      "[(5, 1)] -> 5.0\n",
      "[(2, 1), (61, 1)] -> -122.0\n",
      "[(3, 2), (5, 1)] -> 45.0\n",
      "[(2, 1), (53, 1)] -> -106.0\n",
      "[(37, 1)] -> 37.0\n",
      "[(5, 1), (23, 1)] -> -115.0\n",
      "[(2, 1), (3, 1), (5, 1)] -> 30.0\n",
      "[(3, 1), (41, 1)] -> -123.0\n",
      "[(5, 2)] -> 25.0\n",
      "[(2, 1), (3, 1), (23, 1)] -> -138.0\n",
      "[(3, 2)] -> 9.0\n"
     ]
    }
   ],
   "source": [
    "for b in bsq:\n",
    "    if b == 0 : continue\n",
    "    l = getPrimeFactors(int(b))\n",
    "    print(str(l) + \" -> \" + str(b))\n"
   ]
  },
  {
   "cell_type": "code",
   "execution_count": 104,
   "metadata": {},
   "outputs": [
    {
     "name": "stdout",
     "output_type": "stream",
     "text": [
      "86\n",
      "15\n"
     ]
    }
   ],
   "source": [
    "\n",
    "B = 6228 * 1863 % n\n",
    "C = 5 * 3 % n\n",
    "print(B)\n",
    "print(C)"
   ]
  },
  {
   "cell_type": "code",
   "execution_count": 105,
   "metadata": {},
   "outputs": [
    {
     "name": "stdout",
     "output_type": "stream",
     "text": [
      "101\n",
      "71\n"
     ]
    }
   ],
   "source": [
    "fact1 = gcd(B + C,N)\n",
    "fact2 = gcd(B - C,N)\n",
    "print(fact1)\n",
    "print(fact2)"
   ]
  }
 ],
 "metadata": {
  "kernelspec": {
   "display_name": "Python 3",
   "language": "python",
   "name": "python3"
  },
  "language_info": {
   "codemirror_mode": {
    "name": "ipython",
    "version": 3
   },
   "file_extension": ".py",
   "mimetype": "text/x-python",
   "name": "python",
   "nbconvert_exporter": "python",
   "pygments_lexer": "ipython3",
   "version": "3.5.2"
  }
 },
 "nbformat": 4,
 "nbformat_minor": 2
}
