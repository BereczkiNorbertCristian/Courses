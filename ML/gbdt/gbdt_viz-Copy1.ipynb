{
 "cells": [
  {
   "cell_type": "code",
   "execution_count": 1,
   "metadata": {},
   "outputs": [],
   "source": [
    "\n",
    "import numpy as np\n",
    "import pandas as pd\n",
    "import matplotlib.pyplot as plt\n",
    "\n",
    "from random import uniform\n",
    "from gradient_boosting import GradientBoosting\n",
    "\n",
    "\n"
   ]
  },
  {
   "cell_type": "code",
   "execution_count": 2,
   "metadata": {},
   "outputs": [],
   "source": [
    "\n",
    "x = np.arange(0,50)\n",
    "x = pd.DataFrame({'x':x})\n",
    "\n",
    "# just random uniform distributions in differnt range\n",
    "\n",
    "y1 = np.random.uniform(10,15,10)\n",
    "y2 = np.random.uniform(20,25,10)\n",
    "y3 = np.random.uniform(0,5,10)\n",
    "y4 = np.random.uniform(30,32,10)\n",
    "y5 = np.random.uniform(13,17,10)\n",
    "\n",
    "y = np.concatenate((y1,y2,y3,y4,y5))\n",
    "y = y[:,None]\n",
    "\n",
    "df = pd.DataFrame(data={\n",
    "    'x': x.x.values,\n",
    "    'y': y[:,0],\n",
    "})\n",
    "\n",
    "df['x'] = df['x'].astype(np.float64)"
   ]
  },
  {
   "cell_type": "code",
   "execution_count": 3,
   "metadata": {},
   "outputs": [
    {
     "name": "stdout",
     "output_type": "stream",
     "text": [
      "\n",
      "            Feature x splits on 29.4\n",
      "        \n",
      "\n",
      "            Feature x splits on 20.299999999999997\n",
      "        \n",
      "\n",
      "            Feature x splits on 10.0\n",
      "        \n",
      "\n",
      "            Feature x splits on 1.0\n",
      "        \n",
      "\n",
      "            Feature x splits on 20.0\n",
      "        \n",
      "\n",
      "            Feature x splits on 16.0\n",
      "        \n",
      "\n",
      "            Feature x splits on 39.5\n",
      "        \n",
      "\n",
      "            Feature x splits on 34.0\n",
      "        \n",
      "\n",
      "            Feature x splits on 41.0\n",
      "        \n",
      "\n",
      "            Feature x splits on 44.1\n",
      "        \n",
      "\n",
      "            Feature x splits on 35.2\n",
      "        \n",
      "\n",
      "            Feature x splits on 24.5\n",
      "        \n",
      "\n",
      "            Feature x splits on 2.4000000000000004\n",
      "        \n",
      "\n",
      "            Feature x splits on 13.5\n",
      "        \n",
      "\n",
      "            Feature x splits on 4.0\n",
      "        \n",
      "\n",
      "            Feature x splits on 5.0\n",
      "        \n",
      "\n",
      "            Feature x splits on 24.0\n",
      "        \n",
      "\n",
      "            Feature x splits on 23.0\n",
      "        \n",
      "\n",
      "            Feature x splits on 26.0\n",
      "        \n",
      "\n",
      "            Feature x splits on 27.0\n",
      "        \n",
      "\n",
      "            Feature x splits on 4.9\n",
      "        \n",
      "\n",
      "            Feature x splits on 44.6\n",
      "        \n",
      "\n",
      "            Feature x splits on 28.4\n",
      "        \n",
      "\n",
      "            Feature x splits on 25.7\n",
      "        \n",
      "\n",
      "            Feature x splits on 7.0\n",
      "        \n",
      "\n",
      "            Feature x splits on 23.2\n",
      "        \n",
      "\n",
      "            Feature x splits on 21.4\n",
      "        \n",
      "\n",
      "            Feature x splits on 18.200000000000003\n",
      "        \n",
      "\n",
      "            Feature x splits on 15.8\n",
      "        \n",
      "\n",
      "            Feature x splits on 33.5\n",
      "        \n",
      "\n",
      "            Feature x splits on 44.0\n",
      "        \n",
      "\n",
      "            Feature x splits on 41.0\n",
      "        \n"
     ]
    }
   ],
   "source": [
    "gbdt = GradientBoosting(3)\n",
    "gbdt.fit(df, 'y')"
   ]
  },
  {
   "cell_type": "code",
   "execution_count": 4,
   "metadata": {},
   "outputs": [],
   "source": [
    "ypred_train = [\n",
    "    gbdt.predict(df.iloc[i])\n",
    "    for i in range(df.shape[0])\n",
    "]"
   ]
  },
  {
   "cell_type": "code",
   "execution_count": 6,
   "metadata": {},
   "outputs": [
    {
     "data": {
      "text/plain": [
       "<matplotlib.collections.PathCollection at 0x11ec98dd8>"
      ]
     },
     "execution_count": 6,
     "metadata": {},
     "output_type": "execute_result"
    },
    {
     "data": {
      "image/png": "[encoded data removed]",
      "text/plain": [
       "<Figure size 432x288 with 1 Axes>"
      ]
     },
     "metadata": {
      "needs_background": "light"
     },
     "output_type": "display_data"
    }
   ],
   "source": [
    "plt.scatter(x,y)\n",
    "plt.scatter(x,ypred_train)"
   ]
  },
  {
   "cell_type": "code",
   "execution_count": 28,
   "metadata": {},
   "outputs": [],
   "source": [
    "x = np.arange(0,50)\n",
    "x = pd.DataFrame({'x':x})\n",
    "\n",
    "np.random.seed(7)\n",
    "\n",
    "y1 = np.random.uniform(10,15,10)\n",
    "y2 = np.random.uniform(20,25,10)\n",
    "y3 = np.random.uniform(0,5,10)\n",
    "y4 = np.random.uniform(30,32,10)\n",
    "y5 = np.random.uniform(13,17,10)\n",
    "\n",
    "y_test = np.concatenate((y1,y2,y3,y4,y5))\n",
    "y_test = y[:,None]"
   ]
  },
  {
   "cell_type": "code",
   "execution_count": 29,
   "metadata": {},
   "outputs": [],
   "source": [
    "df = pd.DataFrame(data={\n",
    "    'x': x.x.values,\n",
    "    'y': y[:,0],\n",
    "})\n",
    "\n",
    "df['x'] = df['x'].astype(np.float64)"
   ]
  },
  {
   "cell_type": "code",
   "execution_count": 30,
   "metadata": {},
   "outputs": [],
   "source": [
    "ypred_test = [\n",
    "    gbdt.predict(df.iloc[i])\n",
    "    for i in range(df.shape[0])\n",
    "]"
   ]
  },
  {
   "cell_type": "code",
   "execution_count": 31,
   "metadata": {},
   "outputs": [
    {
     "data": {
      "text/plain": [
       "<matplotlib.collections.PathCollection at 0x12b65e0f0>"
      ]
     },
     "execution_count": 31,
     "metadata": {},
     "output_type": "execute_result"
    },
    {
     "data": {
      "image/png": "[encoded data removed]",
      "text/plain": [
       "<Figure size 432x288 with 1 Axes>"
      ]
     },
     "metadata": {
      "needs_background": "light"
     },
     "output_type": "display_data"
    }
   ],
   "source": [
    "plt.scatter(x,y_test)\n",
    "plt.scatter(x,ypred_test)"
   ]
  },
  {
   "cell_type": "code",
   "execution_count": 32,
   "metadata": {},
   "outputs": [
    {
     "name": "stdout",
     "output_type": "stream",
     "text": [
      "0.39405091653651003\n"
     ]
    }
   ],
   "source": [
    "from sklearn.metrics import mean_squared_error\n",
    "\n",
    "print(mean_squared_error(y_test[:,0,0], ypred_test))"
   ]
  },
  {
   "cell_type": "code",
   "execution_count": null,
   "metadata": {},
   "outputs": [],
   "source": []
  }
 ],
 "metadata": {
  "kernelspec": {
   "display_name": "Python 3",
   "language": "python",
   "name": "python3"
  },
  "language_info": {
   "codemirror_mode": {
    "name": "ipython",
    "version": 3
   },
   "file_extension": ".py",
   "mimetype": "text/x-python",
   "name": "python",
   "nbconvert_exporter": "python",
   "pygments_lexer": "ipython3",
   "version": "3.7.1"
  }
 },
 "nbformat": 4,
 "nbformat_minor": 2
}
