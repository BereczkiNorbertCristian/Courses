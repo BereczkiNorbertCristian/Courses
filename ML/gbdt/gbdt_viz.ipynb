{
 "cells": [
  {
   "cell_type": "code",
   "execution_count": 7,
   "metadata": {},
   "outputs": [],
   "source": [
    "\n",
    "import numpy as np\n",
    "import pandas as pd\n",
    "import matplotlib.pyplot as plt\n",
    "\n",
    "from random import uniform\n",
    "from gradient_boosting import GradientBoosting\n",
    "\n",
    "\n"
   ]
  },
  {
   "cell_type": "code",
   "execution_count": 13,
   "metadata": {},
   "outputs": [],
   "source": [
    "\n",
    "x = np.arange(0,50)\n",
    "x = pd.DataFrame({'x':x})\n",
    "\n",
    "# just random uniform distributions in differnt range\n",
    "\n",
    "y1 = np.random.uniform(10,15,10)\n",
    "y2 = np.random.uniform(20,25,10)\n",
    "y3 = np.random.uniform(0,5,10)\n",
    "y4 = np.random.uniform(30,32,10)\n",
    "y5 = np.random.uniform(13,17,10)\n",
    "\n",
    "y = np.concatenate((y1,y2,y3,y4,y5))\n",
    "y = y[:,None]\n",
    "\n",
    "df = pd.DataFrame(data={\n",
    "    'x': x.x.values,\n",
    "    'y': y[:,0],\n",
    "})\n",
    "\n",
    "df['x'] = df['x'].astype(np.float64)"
   ]
  },
  {
   "cell_type": "code",
   "execution_count": 14,
   "metadata": {},
   "outputs": [
    {
     "name": "stdout",
     "output_type": "stream",
     "text": [
      "\n",
      "            Feature x splits on 29.4\n",
      "        \n",
      "\n",
      "            Feature x splits on 20.299999999999997\n",
      "        \n",
      "\n",
      "            Feature x splits on 10.0\n",
      "        \n",
      "\n",
      "            Feature x splits on 6.0\n",
      "        \n",
      "\n",
      "            Feature x splits on 20.0\n",
      "        \n",
      "\n",
      "            Feature x splits on 19.0\n",
      "        \n",
      "\n",
      "            Feature x splits on 39.5\n",
      "        \n",
      "\n",
      "            Feature x splits on 39.0\n",
      "        \n",
      "\n",
      "            Feature x splits on 45.0\n",
      "        \n"
     ]
    }
   ],
   "source": [
    "gbdt = GradientBoosting(1)\n",
    "gbdt.fit(df, 'y')"
   ]
  },
  {
   "cell_type": "code",
   "execution_count": 15,
   "metadata": {},
   "outputs": [],
   "source": [
    "ypred = [\n",
    "    gbdt.predict(df.iloc[i])\n",
    "    for i in range(df.shape[0])\n",
    "]"
   ]
  },
  {
   "cell_type": "code",
   "execution_count": 16,
   "metadata": {},
   "outputs": [
    {
     "data": {
      "text/plain": [
       "<matplotlib.collections.PathCollection at 0x113c04da0>"
      ]
     },
     "execution_count": 16,
     "metadata": {},
     "output_type": "execute_result"
    },
    {
     "data": {
      "image/png": "[encoded data removed]",
      "text/plain": [
       "<Figure size 432x288 with 1 Axes>"
      ]
     },
     "metadata": {
      "needs_background": "light"
     },
     "output_type": "display_data"
    }
   ],
   "source": [
    "plt.scatter(x,y)\n",
    "plt.scatter(x,ypred)"
   ]
  },
  {
   "cell_type": "code",
   "execution_count": null,
   "metadata": {},
   "outputs": [],
   "source": []
  },
  {
   "cell_type": "code",
   "execution_count": null,
   "metadata": {},
   "outputs": [],
   "source": []
  }
 ],
 "metadata": {
  "kernelspec": {
   "display_name": "Python 3",
   "language": "python",
   "name": "python3"
  },
  "language_info": {
   "codemirror_mode": {
    "name": "ipython",
    "version": 3
   },
   "file_extension": ".py",
   "mimetype": "text/x-python",
   "name": "python",
   "nbconvert_exporter": "python",
   "pygments_lexer": "ipython3",
   "version": "3.7.1"
  }
 },
 "nbformat": 4,
 "nbformat_minor": 2
}
